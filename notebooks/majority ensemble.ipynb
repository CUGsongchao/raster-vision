{
 "cells": [
  {
   "cell_type": "code",
   "execution_count": 2,
   "metadata": {},
   "outputs": [
    {
     "name": "stdout",
     "output_type": "stream",
     "text": [
      "['aws', 's3', 'cp', 's3://raster-vision/results/tagging/7_5_17/ensemble/0/test_preds.csv', '/opt/data/results/tagging/7_5_17/ensemble/0/']\n",
      "['aws', 's3', 'cp', 's3://raster-vision/results/tagging/7_5_17/ensemble/1/test_preds.csv', '/opt/data/results/tagging/7_5_17/ensemble/1/']\n",
      "['aws', 's3', 'cp', 's3://raster-vision/results/tagging/7_5_17/ensemble/2/test_preds.csv', '/opt/data/results/tagging/7_5_17/ensemble/2/']\n",
      "['aws', 's3', 'cp', 's3://raster-vision/results/tagging/7_5_17/ensemble/3/test_preds.csv', '/opt/data/results/tagging/7_5_17/ensemble/3/']\n",
      "['aws', 's3', 'cp', 's3://raster-vision/results/tagging/7_5_17/ensemble/4/test_preds.csv', '/opt/data/results/tagging/7_5_17/ensemble/4/']\n",
      "['aws', 's3', 'cp', 's3://raster-vision/results/tagging/7_11_17/dense_ensemble2/0/test_preds.csv', '/opt/data/results/tagging/7_11_17/dense_ensemble2/0/']\n",
      "['aws', 's3', 'cp', 's3://raster-vision/results/tagging/7_11_17/dense_ensemble2/1/test_preds.csv', '/opt/data/results/tagging/7_11_17/dense_ensemble2/1/']\n",
      "['aws', 's3', 'cp', 's3://raster-vision/results/tagging/7_11_17/dense_ensemble2/2/test_preds.csv', '/opt/data/results/tagging/7_11_17/dense_ensemble2/2/']\n",
      "['aws', 's3', 'cp', 's3://raster-vision/results/tagging/7_11_17/dense_ensemble2/3/test_preds.csv', '/opt/data/results/tagging/7_11_17/dense_ensemble2/3/']\n",
      "['aws', 's3', 'cp', 's3://raster-vision/results/tagging/7_11_17/dense_ensemble2/4/test_preds.csv', '/opt/data/results/tagging/7_11_17/dense_ensemble2/4/']\n",
      "/opt/data/results/tagging/7_5_17/ensemble/0\n",
      "/opt/data/results/tagging/7_5_17/ensemble/1\n",
      "/opt/data/results/tagging/7_5_17/ensemble/2\n",
      "/opt/data/results/tagging/7_5_17/ensemble/3\n",
      "/opt/data/results/tagging/7_5_17/ensemble/4\n",
      "/opt/data/results/tagging/7_11_17/dense_ensemble2/0\n",
      "/opt/data/results/tagging/7_11_17/dense_ensemble2/1\n",
      "/opt/data/results/tagging/7_11_17/dense_ensemble2/2\n",
      "/opt/data/results/tagging/7_11_17/dense_ensemble2/3\n",
      "/opt/data/results/tagging/7_11_17/dense_ensemble2/4\n"
     ]
    }
   ],
   "source": [
    "from os.path import join\n",
    "\n",
    "from rastervision.common.utils import s3_download\n",
    "from rastervision.common.settings import results_path\n",
    "\n",
    "\n",
    "run_names = [\n",
    "    'tagging/7_5_17/ensemble/0',\n",
    "    'tagging/7_5_17/ensemble/1',\n",
    "    'tagging/7_5_17/ensemble/2',\n",
    "    'tagging/7_5_17/ensemble/3',\n",
    "    'tagging/7_5_17/ensemble/4',\n",
    "    'tagging/7_11_17/dense_ensemble2/0',\n",
    "    'tagging/7_11_17/dense_ensemble2/1',\n",
    "    'tagging/7_11_17/dense_ensemble2/2',\n",
    "    'tagging/7_11_17/dense_ensemble2/3',\n",
    "    'tagging/7_11_17/dense_ensemble2/4'\n",
    "]\n",
    "\n",
    "test_pred_fn = 'test_preds.csv'\n",
    "\n",
    "for run_name in run_names:\n",
    "    s3_download(run_name, test_pred_fn)"
   ]
  },
  {
   "cell_type": "code",
   "execution_count": 10,
   "metadata": {},
   "outputs": [],
   "source": [
    "import numpy as np\n",
    "import math\n",
    "\n",
    "from rastervision.tagging.data.planet_kaggle import TagStore\n",
    "\n",
    "run_name = run_names[0]\n",
    "run_path = join(results_path, run_name)\n",
    "test_pred_path = join(run_path, test_pred_fn)\n",
    "test_file_inds = list(TagStore(test_pred_path).file_ind_to_tags.keys())\n",
    "\n",
    "test_preds_list = []\n",
    "for run_name in run_names:\n",
    "    run_path = join(results_path, run_name)\n",
    "    test_pred_path = join(run_path, test_pred_fn) \n",
    "    test_preds = TagStore(test_pred_path).get_tag_array(test_file_inds)\n",
    "    test_preds_list.append(np.expand_dims(test_preds, axis=2))\n",
    "\n",
    "test_preds = np.concatenate(test_preds_list, axis=2)\n",
    "test_preds_sum = np.sum(test_preds, axis=2)\n",
    "weight_sum = test_preds.shape[2]\n",
    "true_thresh = math.ceil(weight_sum / 2)\n",
    "test_preds = test_preds_sum >= true_thresh    "
   ]
  },
  {
   "cell_type": "code",
   "execution_count": 11,
   "metadata": {},
   "outputs": [],
   "source": [
    "out_path = '/opt/data/jupyter/out/test_preds.csv'\n",
    "tag_store = TagStore()\n",
    "for i in range(test_preds.shape[0]):\n",
    "    tag_store.add_tags(test_file_inds[i], test_preds[i, :])\n",
    "\n",
    "tag_store.save(out_path)"
   ]
  },
  {
   "cell_type": "code",
   "execution_count": null,
   "metadata": {
    "collapsed": true
   },
   "outputs": [],
   "source": []
  }
 ],
 "metadata": {
  "kernelspec": {
   "display_name": "Python 3",
   "language": "python",
   "name": "python3"
  },
  "language_info": {
   "codemirror_mode": {
    "name": "ipython",
    "version": 3
   },
   "file_extension": ".py",
   "mimetype": "text/x-python",
   "name": "python",
   "nbconvert_exporter": "python",
   "pygments_lexer": "ipython3",
   "version": "3.5.1"
  }
 },
 "nbformat": 4,
 "nbformat_minor": 2
}

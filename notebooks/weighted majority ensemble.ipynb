{
 "cells": [
  {
   "cell_type": "code",
   "execution_count": 3,
   "metadata": {
    "collapsed": true
   },
   "outputs": [],
   "source": [
    "from os.path import join\n",
    "\n",
    "import boto3\n",
    "from botocore.exceptions import ClientError\n",
    "\n",
    "from rastervision.common.settings import results_path\n",
    "from rastervision.common.utils import _makedirs\n",
    "\n",
    "\n",
    "rob_run_names = [\n",
    "    'tagging/7_11_17/dense_ensemble2/0',\n",
    "    'tagging/7_11_17/dense_ensemble2/1',\n",
    "    'tagging/7_11_17/dense_ensemble2/2',\n",
    "    'tagging/7_11_17/dense_ensemble2/3',\n",
    "    'tagging/7_11_17/dense_ensemble2/4',\n",
    "    'tagging/7_5_17/ensemble/0',\n",
    "    'tagging/7_5_17/ensemble/1',\n",
    "    'tagging/7_5_17/ensemble/2',\n",
    "    'tagging/7_5_17/ensemble/3',\n",
    "    'tagging/7_5_17/ensemble/4',\n",
    "    'tagging/7_5_17/ensemble/avg',\n",
    "    'tagging/6_30_17/rerun_best-test_aug',\n",
    "    'tagging/7_3_17/baseline-branch-tiffdrop',\n",
    "    'tagging/7_3_17/dual_resnet-stage4-moretrain',\n",
    "    'tagging/7_3_17/dual_resnet-stage5-moretrain',\n",
    "    'tagging/7_7_17/tif_ensemble_0/0',\n",
    "    'tagging/7_7_17/tif_ensemble_0/1',\n",
    "    'tagging/7_7_17/tif_ensemble_0/2',\n",
    "    'tagging/7_7_17/tif_ensemble_0/3',\n",
    "    'tagging/7_7_17/jpg_ensemble_0/0',\n",
    "    'tagging/7_7_17/jpg_ensemble_0/1',\n",
    "    'tagging/7_7_17/jpg_ensemble_0/2',\n",
    "    'tagging/7_7_17/jpg_ensemble_0/3',\n",
    "    'tagging/7_7_17/baseline_cyclic_1',\n",
    "    'tagging/7_7_17/baseline_cyclic_1200steps',\n",
    "    'tagging/7_7_17/baseline_cyclic_2',\n",
    "    'tagging/7_6_17/baseline_cyclic',\n",
    "    'tagging/7_2_17/IRRGtiff_v5actual_dense121_3x10epochs_0',\n",
    "    'tagging/6_30_17/dense121_dropout_1',\n",
    "    'tagging/6_30_17/dense121_dropout_2',\n",
    "    'tagging/6_30_17/dense121_dropout_3',\n",
    "    'tagging/6_29_17/dense121_3x10epochs_0',\n",
    "    'tagging/6_29_17/IRRGBtiff_v5_dense121_3x10epochs_0',\n",
    "    'tagging/6_28_17/baseline_testrot_0'\n",
    "]\n",
    "\n",
    "best_densenet_run_names = [\n",
    "    'tagging/7_5_17/ensemble/0',\n",
    "    'tagging/7_5_17/ensemble/1',\n",
    "    'tagging/7_5_17/ensemble/2',\n",
    "    'tagging/7_5_17/ensemble/3',\n",
    "    'tagging/7_5_17/ensemble/4',\n",
    "    'tagging/7_11_17/dense_ensemble2/0',\n",
    "    'tagging/7_11_17/dense_ensemble2/1',\n",
    "    'tagging/7_11_17/dense_ensemble2/2',\n",
    "    'tagging/7_11_17/dense_ensemble2/3',\n",
    "    'tagging/7_11_17/dense_ensemble2/4',\n",
    "    'tagging/7_7_17/jpg_ensemble_0/0',\n",
    "    'tagging/7_7_17/jpg_ensemble_0/1',\n",
    "    'tagging/7_7_17/jpg_ensemble_0/2',\n",
    "    'tagging/7_7_17/jpg_ensemble_0/3',\n",
    "    'tagging/7_7_17/jpg_ensemble_0/4'\n",
    "]\n",
    "\n",
    "other_densenet_run_names = [\n",
    "    'tagging/6_30_17/dense121_dropout_1',\n",
    "    'tagging/6_30_17/dense121_dropout_2',\n",
    "    'tagging/6_30_17/dense121_dropout_3',\n",
    "    'tagging/6_29_17/dense121_3x10epochs_0'\n",
    "]\n",
    "\n",
    "resnet_run_names = [\n",
    "    'tagging/7_7_17/baseline_cyclic_1',\n",
    "    'tagging/7_7_17/baseline_cyclic_1200steps',\n",
    "    'tagging/7_7_17/baseline_cyclic_2',\n",
    "    'tagging/7_6_17/baseline_cyclic',\n",
    "    'tagging/6_28_17/baseline_testrot_0',\n",
    "    'tagging/7_10_17/cyclic_2400steps'\n",
    "]\n",
    "\n",
    "tiff_run_names = [\n",
    "    'tagging/7_3_17/baseline-branch-tiffdrop',\n",
    "    'tagging/7_3_17/dual_resnet-stage4-moretrain',\n",
    "    'tagging/7_3_17/dual_resnet-stage5-moretrain',\n",
    "    'tagging/7_2_17/dual_resnet_30epoch',\n",
    "    'tagging/7_7_17/tif_ensemble_0/0',\n",
    "    'tagging/7_7_17/tif_ensemble_0/1',\n",
    "    'tagging/7_7_17/tif_ensemble_0/2',\n",
    "    'tagging/7_7_17/tif_ensemble_0/3',\n",
    "    'tagging/7_7_17/tif_ensemble_0/4',\n",
    "    'tagging/7_2_17/IRRGtiff_v5actual_dense121_3x10epochs_0',\n",
    "    'tagging/6_29_17/IRRGBtiff_v5_dense121_3x10epochs_0'\n",
    "]\n",
    "\n",
    "grouped_run_names = best_densenet_run_names + other_densenet_run_names + resnet_run_names + tiff_run_names\n",
    "\n",
    "all_run_names = list(set(grouped_run_names) | set(rob_run_names))\n",
    "\n",
    "test_pred_fn = 'test_preds.csv'\n",
    "scores_fn = 'scores.json'\n",
    "s3_bucket = 'raster-vision'\n",
    "\n"
   ]
  },
  {
   "cell_type": "code",
   "execution_count": 22,
   "metadata": {},
   "outputs": [
    {
     "name": "stdout",
     "output_type": "stream",
     "text": [
      "tagging/7_11_17/dense_ensemble2/4\n",
      "tagging/7_11_17/dense_ensemble2/1\n",
      "tagging/7_3_17/dual_resnet-stage4-moretrain\n",
      "tagging/7_5_17/ensemble/3\n",
      "tagging/7_5_17/ensemble/0\n",
      "tagging/6_30_17/dense121_dropout_2\n",
      "tagging/7_10_17/cyclic_2400steps\n",
      "tagging/7_7_17/baseline_cyclic_2\n",
      "tagging/7_3_17/baseline-branch-tiffdrop\n",
      "tagging/7_5_17/ensemble/4\n",
      "tagging/7_11_17/dense_ensemble2/3\n",
      "tagging/7_7_17/jpg_ensemble_0/3\n",
      "tagging/7_2_17/dual_resnet_30epoch\n",
      "tagging/7_11_17/dense_ensemble2/2\n",
      "tagging/7_2_17/IRRGtiff_v5actual_dense121_3x10epochs_0\n",
      "tagging/7_7_17/tif_ensemble_0/3\n",
      "tagging/7_7_17/baseline_cyclic_1\n",
      "tagging/7_7_17/tif_ensemble_0/1\n",
      "tagging/6_29_17/IRRGBtiff_v5_dense121_3x10epochs_0\n",
      "tagging/7_5_17/ensemble/avg\n",
      "tagging/6_28_17/baseline_testrot_0\n",
      "tagging/7_7_17/jpg_ensemble_0/1\n",
      "tagging/7_6_17/baseline_cyclic\n",
      "tagging/7_7_17/tif_ensemble_0/0\n",
      "tagging/7_5_17/ensemble/1\n",
      "tagging/6_29_17/dense121_3x10epochs_0\n"
     ]
    },
    {
     "ename": "ClientError",
     "evalue": "An error occurred (404) when calling the HeadObject operation: Not Found",
     "output_type": "error",
     "traceback": [
      "\u001b[0;31m---------------------------------------------------------------------------\u001b[0m",
      "\u001b[0;31mClientError\u001b[0m                               Traceback (most recent call last)",
      "\u001b[0;32m<ipython-input-22-d61eeb11fae5>\u001b[0m in \u001b[0;36m<module>\u001b[0;34m()\u001b[0m\n\u001b[1;32m     18\u001b[0m     '''\n\u001b[1;32m     19\u001b[0m     \u001b[0mprint\u001b[0m\u001b[0;34m(\u001b[0m\u001b[0mrun_name\u001b[0m\u001b[0;34m)\u001b[0m\u001b[0;34m\u001b[0m\u001b[0m\n\u001b[0;32m---> 20\u001b[0;31m     \u001b[0ms3_download\u001b[0m\u001b[0;34m(\u001b[0m\u001b[0mrun_name\u001b[0m\u001b[0;34m,\u001b[0m \u001b[0;34m'validation_preds.csv'\u001b[0m\u001b[0;34m)\u001b[0m\u001b[0;34m\u001b[0m\u001b[0m\n\u001b[0m",
      "\u001b[0;32m<ipython-input-22-d61eeb11fae5>\u001b[0m in \u001b[0;36ms3_download\u001b[0;34m(run_name, file_name, new_file_name)\u001b[0m\n\u001b[1;32m      5\u001b[0m     \u001b[0mrun_path\u001b[0m \u001b[0;34m=\u001b[0m \u001b[0mjoin\u001b[0m\u001b[0;34m(\u001b[0m\u001b[0;34m'/opt/data/results/'\u001b[0m\u001b[0;34m,\u001b[0m \u001b[0mrun_name\u001b[0m\u001b[0;34m,\u001b[0m \u001b[0mnew_file_name\u001b[0m\u001b[0;34m)\u001b[0m\u001b[0;34m\u001b[0m\u001b[0m\n\u001b[1;32m      6\u001b[0m     \u001b[0ms3\u001b[0m \u001b[0;34m=\u001b[0m \u001b[0mboto3\u001b[0m\u001b[0;34m.\u001b[0m\u001b[0mresource\u001b[0m\u001b[0;34m(\u001b[0m\u001b[0;34m's3'\u001b[0m\u001b[0;34m)\u001b[0m\u001b[0;34m\u001b[0m\u001b[0m\n\u001b[0;32m----> 7\u001b[0;31m     \u001b[0ms3\u001b[0m\u001b[0;34m.\u001b[0m\u001b[0mBucket\u001b[0m\u001b[0;34m(\u001b[0m\u001b[0ms3_bucket\u001b[0m\u001b[0;34m)\u001b[0m\u001b[0;34m.\u001b[0m\u001b[0mdownload_file\u001b[0m\u001b[0;34m(\u001b[0m\u001b[0ms3_key\u001b[0m\u001b[0;34m,\u001b[0m \u001b[0mrun_path\u001b[0m\u001b[0;34m)\u001b[0m\u001b[0;34m\u001b[0m\u001b[0m\n\u001b[0m\u001b[1;32m      8\u001b[0m \u001b[0;34m\u001b[0m\u001b[0m\n\u001b[1;32m      9\u001b[0m \u001b[0;32mfor\u001b[0m \u001b[0mrun_name\u001b[0m \u001b[0;32min\u001b[0m \u001b[0mall_run_names\u001b[0m\u001b[0;34m:\u001b[0m\u001b[0;34m\u001b[0m\u001b[0m\n",
      "\u001b[0;32m/opt/conda/lib/python3.5/site-packages/boto3/s3/inject.py\u001b[0m in \u001b[0;36mbucket_download_file\u001b[0;34m(self, Key, Filename, ExtraArgs, Callback, Config)\u001b[0m\n\u001b[1;32m    162\u001b[0m     return self.meta.client.download_file(\n\u001b[1;32m    163\u001b[0m         \u001b[0mBucket\u001b[0m\u001b[0;34m=\u001b[0m\u001b[0mself\u001b[0m\u001b[0;34m.\u001b[0m\u001b[0mname\u001b[0m\u001b[0;34m,\u001b[0m \u001b[0mKey\u001b[0m\u001b[0;34m=\u001b[0m\u001b[0mKey\u001b[0m\u001b[0;34m,\u001b[0m \u001b[0mFilename\u001b[0m\u001b[0;34m=\u001b[0m\u001b[0mFilename\u001b[0m\u001b[0;34m,\u001b[0m\u001b[0;34m\u001b[0m\u001b[0m\n\u001b[0;32m--> 164\u001b[0;31m         ExtraArgs=ExtraArgs, Callback=Callback, Config=Config)\n\u001b[0m\u001b[1;32m    165\u001b[0m \u001b[0;34m\u001b[0m\u001b[0m\n\u001b[1;32m    166\u001b[0m \u001b[0;34m\u001b[0m\u001b[0m\n",
      "\u001b[0;32m/opt/conda/lib/python3.5/site-packages/boto3/s3/inject.py\u001b[0m in \u001b[0;36mdownload_file\u001b[0;34m(self, Bucket, Key, Filename, ExtraArgs, Callback, Config)\u001b[0m\n\u001b[1;32m    124\u001b[0m         return transfer.download_file(\n\u001b[1;32m    125\u001b[0m             \u001b[0mbucket\u001b[0m\u001b[0;34m=\u001b[0m\u001b[0mBucket\u001b[0m\u001b[0;34m,\u001b[0m \u001b[0mkey\u001b[0m\u001b[0;34m=\u001b[0m\u001b[0mKey\u001b[0m\u001b[0;34m,\u001b[0m \u001b[0mfilename\u001b[0m\u001b[0;34m=\u001b[0m\u001b[0mFilename\u001b[0m\u001b[0;34m,\u001b[0m\u001b[0;34m\u001b[0m\u001b[0m\n\u001b[0;32m--> 126\u001b[0;31m             extra_args=ExtraArgs, callback=Callback)\n\u001b[0m\u001b[1;32m    127\u001b[0m \u001b[0;34m\u001b[0m\u001b[0m\n\u001b[1;32m    128\u001b[0m \u001b[0;34m\u001b[0m\u001b[0m\n",
      "\u001b[0;32m/opt/conda/lib/python3.5/site-packages/boto3/s3/transfer.py\u001b[0m in \u001b[0;36mdownload_file\u001b[0;34m(self, bucket, key, filename, extra_args, callback)\u001b[0m\n\u001b[1;32m    297\u001b[0m             bucket, key, filename, extra_args, subscribers)\n\u001b[1;32m    298\u001b[0m         \u001b[0;32mtry\u001b[0m\u001b[0;34m:\u001b[0m\u001b[0;34m\u001b[0m\u001b[0m\n\u001b[0;32m--> 299\u001b[0;31m             \u001b[0mfuture\u001b[0m\u001b[0;34m.\u001b[0m\u001b[0mresult\u001b[0m\u001b[0;34m(\u001b[0m\u001b[0;34m)\u001b[0m\u001b[0;34m\u001b[0m\u001b[0m\n\u001b[0m\u001b[1;32m    300\u001b[0m         \u001b[0;31m# This is for backwards compatibility where when retries are\u001b[0m\u001b[0;34m\u001b[0m\u001b[0;34m\u001b[0m\u001b[0m\n\u001b[1;32m    301\u001b[0m         \u001b[0;31m# exceeded we need to throw the same error from boto3 instead of\u001b[0m\u001b[0;34m\u001b[0m\u001b[0;34m\u001b[0m\u001b[0m\n",
      "\u001b[0;32m/opt/conda/lib/python3.5/site-packages/s3transfer/futures.py\u001b[0m in \u001b[0;36mresult\u001b[0;34m(self)\u001b[0m\n\u001b[1;32m     71\u001b[0m             \u001b[0;31m# however if a KeyboardInterrupt is raised we want want to exit\u001b[0m\u001b[0;34m\u001b[0m\u001b[0;34m\u001b[0m\u001b[0m\n\u001b[1;32m     72\u001b[0m             \u001b[0;31m# out of this and propogate the exception.\u001b[0m\u001b[0;34m\u001b[0m\u001b[0;34m\u001b[0m\u001b[0m\n\u001b[0;32m---> 73\u001b[0;31m             \u001b[0;32mreturn\u001b[0m \u001b[0mself\u001b[0m\u001b[0;34m.\u001b[0m\u001b[0m_coordinator\u001b[0m\u001b[0;34m.\u001b[0m\u001b[0mresult\u001b[0m\u001b[0;34m(\u001b[0m\u001b[0;34m)\u001b[0m\u001b[0;34m\u001b[0m\u001b[0m\n\u001b[0m\u001b[1;32m     74\u001b[0m         \u001b[0;32mexcept\u001b[0m \u001b[0mKeyboardInterrupt\u001b[0m \u001b[0;32mas\u001b[0m \u001b[0me\u001b[0m\u001b[0;34m:\u001b[0m\u001b[0;34m\u001b[0m\u001b[0m\n\u001b[1;32m     75\u001b[0m             \u001b[0mself\u001b[0m\u001b[0;34m.\u001b[0m\u001b[0mcancel\u001b[0m\u001b[0;34m(\u001b[0m\u001b[0;34m)\u001b[0m\u001b[0;34m\u001b[0m\u001b[0m\n",
      "\u001b[0;32m/opt/conda/lib/python3.5/site-packages/s3transfer/futures.py\u001b[0m in \u001b[0;36mresult\u001b[0;34m(self)\u001b[0m\n\u001b[1;32m    231\u001b[0m         \u001b[0;31m# final result.\u001b[0m\u001b[0;34m\u001b[0m\u001b[0;34m\u001b[0m\u001b[0m\n\u001b[1;32m    232\u001b[0m         \u001b[0;32mif\u001b[0m \u001b[0mself\u001b[0m\u001b[0;34m.\u001b[0m\u001b[0m_exception\u001b[0m\u001b[0;34m:\u001b[0m\u001b[0;34m\u001b[0m\u001b[0m\n\u001b[0;32m--> 233\u001b[0;31m             \u001b[0;32mraise\u001b[0m \u001b[0mself\u001b[0m\u001b[0;34m.\u001b[0m\u001b[0m_exception\u001b[0m\u001b[0;34m\u001b[0m\u001b[0m\n\u001b[0m\u001b[1;32m    234\u001b[0m         \u001b[0;32mreturn\u001b[0m \u001b[0mself\u001b[0m\u001b[0;34m.\u001b[0m\u001b[0m_result\u001b[0m\u001b[0;34m\u001b[0m\u001b[0m\n\u001b[1;32m    235\u001b[0m \u001b[0;34m\u001b[0m\u001b[0m\n",
      "\u001b[0;32m/opt/conda/lib/python3.5/site-packages/s3transfer/tasks.py\u001b[0m in \u001b[0;36m_main\u001b[0;34m(self, transfer_future, **kwargs)\u001b[0m\n\u001b[1;32m    253\u001b[0m             \u001b[0;31m# Call the submit method to start submitting tasks to execute the\u001b[0m\u001b[0;34m\u001b[0m\u001b[0;34m\u001b[0m\u001b[0m\n\u001b[1;32m    254\u001b[0m             \u001b[0;31m# transfer.\u001b[0m\u001b[0;34m\u001b[0m\u001b[0;34m\u001b[0m\u001b[0m\n\u001b[0;32m--> 255\u001b[0;31m             \u001b[0mself\u001b[0m\u001b[0;34m.\u001b[0m\u001b[0m_submit\u001b[0m\u001b[0;34m(\u001b[0m\u001b[0mtransfer_future\u001b[0m\u001b[0;34m=\u001b[0m\u001b[0mtransfer_future\u001b[0m\u001b[0;34m,\u001b[0m \u001b[0;34m**\u001b[0m\u001b[0mkwargs\u001b[0m\u001b[0;34m)\u001b[0m\u001b[0;34m\u001b[0m\u001b[0m\n\u001b[0m\u001b[1;32m    256\u001b[0m         \u001b[0;32mexcept\u001b[0m \u001b[0mBaseException\u001b[0m \u001b[0;32mas\u001b[0m \u001b[0me\u001b[0m\u001b[0;34m:\u001b[0m\u001b[0;34m\u001b[0m\u001b[0m\n\u001b[1;32m    257\u001b[0m             \u001b[0;31m# If there was an exception rasied during the submission of task\u001b[0m\u001b[0;34m\u001b[0m\u001b[0;34m\u001b[0m\u001b[0m\n",
      "\u001b[0;32m/opt/conda/lib/python3.5/site-packages/s3transfer/download.py\u001b[0m in \u001b[0;36m_submit\u001b[0;34m(self, client, config, osutil, request_executor, io_executor, transfer_future)\u001b[0m\n\u001b[1;32m    347\u001b[0m                 \u001b[0mBucket\u001b[0m\u001b[0;34m=\u001b[0m\u001b[0mtransfer_future\u001b[0m\u001b[0;34m.\u001b[0m\u001b[0mmeta\u001b[0m\u001b[0;34m.\u001b[0m\u001b[0mcall_args\u001b[0m\u001b[0;34m.\u001b[0m\u001b[0mbucket\u001b[0m\u001b[0;34m,\u001b[0m\u001b[0;34m\u001b[0m\u001b[0m\n\u001b[1;32m    348\u001b[0m                 \u001b[0mKey\u001b[0m\u001b[0;34m=\u001b[0m\u001b[0mtransfer_future\u001b[0m\u001b[0;34m.\u001b[0m\u001b[0mmeta\u001b[0m\u001b[0;34m.\u001b[0m\u001b[0mcall_args\u001b[0m\u001b[0;34m.\u001b[0m\u001b[0mkey\u001b[0m\u001b[0;34m,\u001b[0m\u001b[0;34m\u001b[0m\u001b[0m\n\u001b[0;32m--> 349\u001b[0;31m                 \u001b[0;34m**\u001b[0m\u001b[0mtransfer_future\u001b[0m\u001b[0;34m.\u001b[0m\u001b[0mmeta\u001b[0m\u001b[0;34m.\u001b[0m\u001b[0mcall_args\u001b[0m\u001b[0;34m.\u001b[0m\u001b[0mextra_args\u001b[0m\u001b[0;34m\u001b[0m\u001b[0m\n\u001b[0m\u001b[1;32m    350\u001b[0m             )\n\u001b[1;32m    351\u001b[0m             transfer_future.meta.provide_transfer_size(\n",
      "\u001b[0;32m/opt/conda/lib/python3.5/site-packages/botocore/client.py\u001b[0m in \u001b[0;36m_api_call\u001b[0;34m(self, *args, **kwargs)\u001b[0m\n\u001b[1;32m    308\u001b[0m                     \"%s() only accepts keyword arguments.\" % py_operation_name)\n\u001b[1;32m    309\u001b[0m             \u001b[0;31m# The \"self\" in this scope is referring to the BaseClient.\u001b[0m\u001b[0;34m\u001b[0m\u001b[0;34m\u001b[0m\u001b[0m\n\u001b[0;32m--> 310\u001b[0;31m             \u001b[0;32mreturn\u001b[0m \u001b[0mself\u001b[0m\u001b[0;34m.\u001b[0m\u001b[0m_make_api_call\u001b[0m\u001b[0;34m(\u001b[0m\u001b[0moperation_name\u001b[0m\u001b[0;34m,\u001b[0m \u001b[0mkwargs\u001b[0m\u001b[0;34m)\u001b[0m\u001b[0;34m\u001b[0m\u001b[0m\n\u001b[0m\u001b[1;32m    311\u001b[0m \u001b[0;34m\u001b[0m\u001b[0m\n\u001b[1;32m    312\u001b[0m         \u001b[0m_api_call\u001b[0m\u001b[0;34m.\u001b[0m\u001b[0m__name__\u001b[0m \u001b[0;34m=\u001b[0m \u001b[0mstr\u001b[0m\u001b[0;34m(\u001b[0m\u001b[0mpy_operation_name\u001b[0m\u001b[0;34m)\u001b[0m\u001b[0;34m\u001b[0m\u001b[0m\n",
      "\u001b[0;32m/opt/conda/lib/python3.5/site-packages/botocore/client.py\u001b[0m in \u001b[0;36m_make_api_call\u001b[0;34m(self, operation_name, api_params)\u001b[0m\n\u001b[1;32m    597\u001b[0m             \u001b[0merror_code\u001b[0m \u001b[0;34m=\u001b[0m \u001b[0mparsed_response\u001b[0m\u001b[0;34m.\u001b[0m\u001b[0mget\u001b[0m\u001b[0;34m(\u001b[0m\u001b[0;34m\"Error\"\u001b[0m\u001b[0;34m,\u001b[0m \u001b[0;34m{\u001b[0m\u001b[0;34m}\u001b[0m\u001b[0;34m)\u001b[0m\u001b[0;34m.\u001b[0m\u001b[0mget\u001b[0m\u001b[0;34m(\u001b[0m\u001b[0;34m\"Code\"\u001b[0m\u001b[0;34m)\u001b[0m\u001b[0;34m\u001b[0m\u001b[0m\n\u001b[1;32m    598\u001b[0m             \u001b[0merror_class\u001b[0m \u001b[0;34m=\u001b[0m \u001b[0mself\u001b[0m\u001b[0;34m.\u001b[0m\u001b[0mexceptions\u001b[0m\u001b[0;34m.\u001b[0m\u001b[0mfrom_code\u001b[0m\u001b[0;34m(\u001b[0m\u001b[0merror_code\u001b[0m\u001b[0;34m)\u001b[0m\u001b[0;34m\u001b[0m\u001b[0m\n\u001b[0;32m--> 599\u001b[0;31m             \u001b[0;32mraise\u001b[0m \u001b[0merror_class\u001b[0m\u001b[0;34m(\u001b[0m\u001b[0mparsed_response\u001b[0m\u001b[0;34m,\u001b[0m \u001b[0moperation_name\u001b[0m\u001b[0;34m)\u001b[0m\u001b[0;34m\u001b[0m\u001b[0m\n\u001b[0m\u001b[1;32m    600\u001b[0m         \u001b[0;32melse\u001b[0m\u001b[0;34m:\u001b[0m\u001b[0;34m\u001b[0m\u001b[0m\n\u001b[1;32m    601\u001b[0m             \u001b[0;32mreturn\u001b[0m \u001b[0mparsed_response\u001b[0m\u001b[0;34m\u001b[0m\u001b[0m\n",
      "\u001b[0;31mClientError\u001b[0m: An error occurred (404) when calling the HeadObject operation: Not Found"
     ]
    }
   ],
   "source": [
    "def s3_download(run_name, file_name, new_file_name=None):\n",
    "    if new_file_name is None:\n",
    "        new_file_name = file_name\n",
    "    s3_key = 'results/{}/{}'.format(run_name, file_name)\n",
    "    run_path = join('/opt/data/results/', run_name, new_file_name)\n",
    "    s3 = boto3.resource('s3')\n",
    "    s3.Bucket(s3_bucket).download_file(s3_key, run_path)\n",
    "    \n",
    "for run_name in all_run_names:\n",
    "    _makedirs(join('/opt/data/results/', run_name))\n",
    "    try:\n",
    "        s3_download(run_name, test_pred_fn)\n",
    "    except:\n",
    "        s3_download(run_name, 'test_predictions.csv', test_pred_fn)\n",
    "        \n",
    "    s3_download(run_name, scores_fn)\n",
    "    print(run_name)\n",
    "    s3_download(run_name, 'validation_preds.csv')"
   ]
  },
  {
   "cell_type": "code",
   "execution_count": 4,
   "metadata": {
    "collapsed": true
   },
   "outputs": [],
   "source": [
    "import json\n",
    "\n",
    "run_f2 = {}\n",
    "for run_name in all_run_names:\n",
    "    run_path = join(results_path, run_name)\n",
    "    scores_path = join(run_path, 'scores.json')\n",
    "    with open(scores_path, 'r') as scores_file:\n",
    "        scores = json.load(scores_file)\n",
    "        if 'f2' in scores:\n",
    "            f2 = scores['f2']\n",
    "        elif 'f2_samples' in scores:\n",
    "            f2 = scores['f2_samples']\n",
    "    run_f2[run_name] = f2"
   ]
  },
  {
   "cell_type": "code",
   "execution_count": 6,
   "metadata": {},
   "outputs": [
    {
     "name": "stdout",
     "output_type": "stream",
     "text": [
      "34\n",
      "[('tagging/7_11_17/dense_ensemble2/0', 0.92871), ('tagging/7_11_17/dense_ensemble2/1', 0.93108), ('tagging/7_11_17/dense_ensemble2/2', 0.93043), ('tagging/7_11_17/dense_ensemble2/3', 0.93124), ('tagging/7_11_17/dense_ensemble2/4', 0.92978), ('tagging/7_5_17/ensemble/0', 0.9295), ('tagging/7_5_17/ensemble/1', 0.92978), ('tagging/7_5_17/ensemble/2', 0.93026), ('tagging/7_5_17/ensemble/3', 0.93029), ('tagging/7_5_17/ensemble/4', 0.92986), ('tagging/7_5_17/ensemble/avg', 0.93175), ('tagging/6_30_17/rerun_best-test_aug', 0.92875), ('tagging/7_3_17/baseline-branch-tiffdrop', 0.92515), ('tagging/7_3_17/dual_resnet-stage4-moretrain', 0.92547), ('tagging/7_3_17/dual_resnet-stage5-moretrain', 0.92624), ('tagging/7_7_17/tif_ensemble_0/0', 0.9153), ('tagging/7_7_17/tif_ensemble_0/1', 0.91378), ('tagging/7_7_17/tif_ensemble_0/2', 0.91531), ('tagging/7_7_17/tif_ensemble_0/3', 0.9159), ('tagging/7_7_17/jpg_ensemble_0/0', 0.9285), ('tagging/7_7_17/jpg_ensemble_0/1', 0.929), ('tagging/7_7_17/jpg_ensemble_0/2', 0.9302), ('tagging/7_7_17/jpg_ensemble_0/3', 0.9282), ('tagging/7_7_17/baseline_cyclic_1', 0.92799), ('tagging/7_7_17/baseline_cyclic_1200steps', 0.92613), ('tagging/7_7_17/baseline_cyclic_2', 0.92239), ('tagging/7_6_17/baseline_cyclic', 0.90561), ('tagging/7_2_17/IRRGtiff_v5actual_dense121_3x10epochs_0', 0.92637), ('tagging/6_30_17/dense121_dropout_1', 0.92355), ('tagging/6_30_17/dense121_dropout_2', 0.91174), ('tagging/6_30_17/dense121_dropout_3', 0.89206), ('tagging/6_29_17/dense121_3x10epochs_0', 0.9278674897960667), ('tagging/6_29_17/IRRGBtiff_v5_dense121_3x10epochs_0', 0.9308), ('tagging/6_28_17/baseline_testrot_0', 0.9253781318970175)]\n",
      "34\n",
      "27\n",
      "7\n",
      "[('tagging/7_7_17/tif_ensemble_0/0', 0.9153), ('tagging/7_7_17/tif_ensemble_0/1', 0.91378), ('tagging/7_7_17/tif_ensemble_0/2', 0.91531), ('tagging/7_7_17/tif_ensemble_0/3', 0.9159), ('tagging/7_6_17/baseline_cyclic', 0.90561), ('tagging/6_30_17/dense121_dropout_2', 0.91174), ('tagging/6_30_17/dense121_dropout_3', 0.89206)]\n"
     ]
    }
   ],
   "source": [
    "rob_f2_list = list(map(lambda run_name: (run_name, run_f2[run_name]), rob_run_names))\n",
    "decent_f2_list = list(filter(lambda x: x[1] > 0.92, rob_f2_list))\n",
    "bad_f2_list = list(filter(lambda x: x[1] < 0.92, rob_f2_list))\n",
    "decent_run_names = list(map(lambda x: x[0], decent_f2_list))\n",
    "\n",
    "print(len(rob_run_names))\n",
    "print(rob_f2_list)\n",
    "print(len(rob_f2_list))\n",
    "print(len(decent_f2_list))\n",
    "print(len(bad_f2_list))\n",
    "print(bad_f2_list)\n"
   ]
  },
  {
   "cell_type": "code",
   "execution_count": 8,
   "metadata": {
    "collapsed": true
   },
   "outputs": [],
   "source": [
    "import numpy as np\n",
    "import math\n",
    "\n",
    "from rastervision.tagging.data.planet_kaggle import TagStore\n",
    "\n",
    "run_name = all_run_names[0]\n",
    "run_path = join(results_path, run_name)\n",
    "test_pred_path = join(run_path, test_pred_fn)\n",
    "test_file_inds = list(TagStore(test_pred_path).file_ind_to_tags.keys())\n",
    "\n",
    "def make_test_preds(run_names, out_path):\n",
    "    test_preds_list = []\n",
    "    for run_name in run_names:\n",
    "        run_path = join(results_path, run_name)\n",
    "        test_pred_path = join(run_path, test_pred_fn) \n",
    "        test_preds = TagStore(test_pred_path).get_tag_array(test_file_inds)\n",
    "        test_preds_list.append(np.expand_dims(test_preds, axis=2))\n",
    "\n",
    "    test_preds = np.concatenate(test_preds_list, axis=2)\n",
    "    test_preds_sum = np.sum(test_preds, axis=2)\n",
    "    weight_sum = test_preds.shape[2]\n",
    "    true_thresh = math.ceil(weight_sum / 2)\n",
    "    test_preds = test_preds_sum >= true_thresh\n",
    "\n",
    "    tag_store = TagStore()\n",
    "    for i in range(test_preds.shape[0]):\n",
    "        tag_store.add_tags(test_file_inds[i], test_preds[i, :])\n",
    "\n",
    "    tag_store.save(out_path)"
   ]
  },
  {
   "cell_type": "code",
   "execution_count": 9,
   "metadata": {
    "collapsed": true
   },
   "outputs": [],
   "source": [
    "# ensemble 5 is made of rob_run_names\n",
    "# 0.93217 LB\n",
    "\n",
    "# ensemble 5 minus models with < 0.92 val f2\n",
    "# 0.93201 LB\n",
    "out_path = '/opt/data/results/jupyter_out/'\n",
    "_makedirs(out_path)\n",
    "make_test_preds(decent_run_names, join(out_path, 'decent_preds.csv'))"
   ]
  },
  {
   "cell_type": "code",
   "execution_count": 58,
   "metadata": {
    "collapsed": true
   },
   "outputs": [],
   "source": [
    "# ensemble 5 plus 5 new densenets\n",
    "# 0.93202 LB\n",
    "out_path = '/opt/data/results/jupyter_out/'\n",
    "new_dn_run_names = [\n",
    "    'tagging/7_11_17/dense_ensemble2/0',\n",
    "    'tagging/7_11_17/dense_ensemble2/1',\n",
    "    'tagging/7_11_17/dense_ensemble2/2',\n",
    "    'tagging/7_11_17/dense_ensemble2/3',\n",
    "    'tagging/7_11_17/dense_ensemble2/4'\n",
    "]\n",
    "make_test_preds(rob_run_names + new_dn_run_names, join(out_path, 'all_preds.csv'))"
   ]
  },
  {
   "cell_type": "code",
   "execution_count": 59,
   "metadata": {
    "collapsed": true
   },
   "outputs": [],
   "source": [
    "# ensemble 5 minus 5 densenets\n",
    "# 0.93221 LB\n",
    "second_densenet_run_names = [\n",
    "    'tagging/7_5_17/ensemble/0',\n",
    "    'tagging/7_5_17/ensemble/1',\n",
    "    'tagging/7_5_17/ensemble/2',\n",
    "    'tagging/7_5_17/ensemble/3',\n",
    "    'tagging/7_5_17/ensemble/4',\n",
    "    'tagging/7_5_17/ensemble/avg'\n",
    "]\n",
    "\n",
    "make_test_preds(list(set(rob_run_names) - set(second_densenet_run_names)), join(out_path, 'minus_second_dn.csv'))"
   ]
  },
  {
   "cell_type": "code",
   "execution_count": 11,
   "metadata": {
    "collapsed": true
   },
   "outputs": [],
   "source": [
    "# ensemble of 3 densenets, 3 densenets with dropout, 3 resnets, 3 tiffs\n",
    "# 0.93144 LB\n",
    "streamlined_run_names = [\n",
    "    'tagging/7_7_17/jpg_ensemble_0/0',\n",
    "    'tagging/7_7_17/jpg_ensemble_0/1',\n",
    "    'tagging/7_7_17/jpg_ensemble_0/2',\n",
    "    'tagging/7_7_17/tif_ensemble_0/0',\n",
    "    'tagging/7_7_17/tif_ensemble_0/1',\n",
    "    'tagging/7_7_17/tif_ensemble_0/2',\n",
    "    'tagging/7_7_17/baseline_cyclic_1200steps',\n",
    "    'tagging/7_7_17/baseline_cyclic_2',\n",
    "    'tagging/7_10_17/cyclic_2400steps',\n",
    "    'tagging/6_30_17/dense121_dropout_1',\n",
    "    'tagging/6_30_17/dense121_dropout_2',\n",
    "    'tagging/6_30_17/dense121_dropout_3'\n",
    "]\n",
    "\n",
    "make_test_preds(streamlined_run_names, join(out_path, 'streamlined_test_preds.csv'))"
   ]
  },
  {
   "cell_type": "code",
   "execution_count": 15,
   "metadata": {
    "collapsed": true
   },
   "outputs": [],
   "source": [
    "# majority voting ensemble of 5 DN and 5 TIFF\n",
    "# 0.92895\n",
    "streamlined_run_names = [\n",
    "    'tagging/7_7_17/tif_ensemble_0/0',\n",
    "    'tagging/7_7_17/tif_ensemble_0/1',\n",
    "    'tagging/7_7_17/tif_ensemble_0/2',\n",
    "    'tagging/7_7_17/tif_ensemble_0/3',\n",
    "    'tagging/7_7_17/tif_ensemble_0/4',\n",
    "    'tagging/7_7_17/jpg_ensemble_0/0',\n",
    "    'tagging/7_7_17/jpg_ensemble_0/1',\n",
    "    'tagging/7_7_17/jpg_ensemble_0/2',\n",
    "    'tagging/7_7_17/jpg_ensemble_0/3',\n",
    "    'tagging/7_7_17/jpg_ensemble_0/4'\n",
    "]\n",
    "\n",
    "make_test_preds(streamlined_run_names, join(out_path, 'dense_tiff_test_preds.csv'))"
   ]
  },
  {
   "cell_type": "code",
   "execution_count": 16,
   "metadata": {
    "collapsed": true
   },
   "outputs": [],
   "source": [
    "# adding tiffs hurt, so get rid of them\n",
    "# ensemble of 4 densenets, 2 densenets with dropout, 4 resnets\n",
    "# 0.93197\n",
    "streamlined_run_names = [\n",
    "    'tagging/7_7_17/jpg_ensemble_0/0',\n",
    "    'tagging/7_7_17/jpg_ensemble_0/1',\n",
    "    'tagging/7_7_17/jpg_ensemble_0/2',\n",
    "    'tagging/7_7_17/jpg_ensemble_0/3',\n",
    "    'tagging/7_7_17/baseline_cyclic_1200steps',\n",
    "    'tagging/7_7_17/baseline_cyclic_2',\n",
    "    'tagging/7_10_17/cyclic_2400steps',\n",
    "    'tagging/6_28_17/baseline_testrot_0',\n",
    "    'tagging/6_30_17/dense121_dropout_1',\n",
    "    'tagging/6_30_17/dense121_dropout_2',\n",
    "]\n",
    "\n",
    "make_test_preds(streamlined_run_names, join(out_path, '10_no_tiff_test_preds.csv'))"
   ]
  },
  {
   "cell_type": "code",
   "execution_count": 19,
   "metadata": {
    "collapsed": true
   },
   "outputs": [],
   "source": [
    "# 0.93193\n",
    "\n",
    "# make big ensemble without tiff and weight non-standard densenets double, \n",
    "# so that densenets and others are balanced\n",
    "big_no_tiff_run_names = [\n",
    "    'tagging/7_11_17/dense_ensemble2/0',\n",
    "    'tagging/7_11_17/dense_ensemble2/1',\n",
    "    'tagging/7_11_17/dense_ensemble2/2',\n",
    "    'tagging/7_11_17/dense_ensemble2/3',\n",
    "    'tagging/7_11_17/dense_ensemble2/4',\n",
    "    'tagging/7_5_17/ensemble/0',\n",
    "    'tagging/7_5_17/ensemble/1',\n",
    "    'tagging/7_5_17/ensemble/2',\n",
    "    'tagging/7_5_17/ensemble/3',\n",
    "    'tagging/7_5_17/ensemble/4',\n",
    "    'tagging/7_7_17/jpg_ensemble_0/0',\n",
    "    'tagging/7_7_17/jpg_ensemble_0/1',\n",
    "    'tagging/7_7_17/jpg_ensemble_0/2',\n",
    "    'tagging/7_7_17/jpg_ensemble_0/3',\n",
    "    'tagging/7_7_17/jpg_ensemble_0/4',\n",
    "    'tagging/7_7_17/baseline_cyclic_1',\n",
    "    'tagging/7_7_17/baseline_cyclic_1200steps',\n",
    "    'tagging/7_7_17/baseline_cyclic_2',\n",
    "    'tagging/6_28_17/baseline_testrot_0',\n",
    "    'tagging/6_30_17/dense121_dropout_1',\n",
    "    'tagging/6_30_17/dense121_dropout_2',\n",
    "    'tagging/6_30_17/dense121_dropout_3',\n",
    "    'tagging/7_7_17/baseline_cyclic_1',\n",
    "    'tagging/7_7_17/baseline_cyclic_1200steps',\n",
    "    'tagging/7_7_17/baseline_cyclic_2',\n",
    "    'tagging/6_28_17/baseline_testrot_0',\n",
    "    'tagging/6_30_17/dense121_dropout_1',\n",
    "    'tagging/6_30_17/dense121_dropout_2',\n",
    "    'tagging/6_30_17/dense121_dropout_3'\n",
    "]\n",
    "make_test_preds(big_no_tiff_run_names, join(out_path, 'no_tiff_test_preds.csv'))"
   ]
  },
  {
   "cell_type": "code",
   "execution_count": 20,
   "metadata": {
    "collapsed": true
   },
   "outputs": [],
   "source": [
    "# 4 runs with same validation set\n",
    "# compute validation f2\n",
    "# add weights\n",
    "# greedy forward selection"
   ]
  },
  {
   "cell_type": "code",
   "execution_count": 96,
   "metadata": {},
   "outputs": [
    {
     "name": "stdout",
     "output_type": "stream",
     "text": [
      "tagging/7_11_17/dense_ensemble2/0\n",
      "tagging/7_11_17/dense_ensemble2/1\n",
      "tagging/7_11_17/dense_ensemble2/2\n",
      "tagging/7_11_17/dense_ensemble2/3\n",
      "tagging/7_11_17/dense_ensemble2/4\n",
      "tagging/7_5_17/ensemble/0\n",
      "tagging/7_5_17/ensemble/1\n",
      "tagging/7_5_17/ensemble/2\n",
      "tagging/7_5_17/ensemble/3\n",
      "tagging/7_5_17/ensemble/4\n"
     ]
    }
   ],
   "source": [
    "run_names = [\n",
    "    'tagging/7_11_17/dense_ensemble2/0',\n",
    "    'tagging/7_11_17/dense_ensemble2/1',\n",
    "    'tagging/7_11_17/dense_ensemble2/2',\n",
    "    'tagging/7_11_17/dense_ensemble2/3',\n",
    "    'tagging/7_11_17/dense_ensemble2/4',\n",
    "    'tagging/7_5_17/ensemble/0',\n",
    "    'tagging/7_5_17/ensemble/1',\n",
    "    'tagging/7_5_17/ensemble/2',\n",
    "    'tagging/7_5_17/ensemble/3',\n",
    "    'tagging/7_5_17/ensemble/4'\n",
    "]\n",
    "\n",
    "for run_name in run_names:\n",
    "    _makedirs(join('/opt/data/results/', run_name))\n",
    "    try:\n",
    "        s3_download(run_name, test_pred_fn)\n",
    "    except:\n",
    "        s3_download(run_name, 'test_predictions.csv', test_pred_fn)\n",
    "        \n",
    "    s3_download(run_name, scores_fn)\n",
    "    print(run_name)\n",
    "    s3_download(run_name, 'validation_preds.csv')\n",
    "    s3_download(run_name, 'train_preds.csv')"
   ]
  },
  {
   "cell_type": "code",
   "execution_count": 97,
   "metadata": {},
   "outputs": [],
   "source": [
    "results_path = '/opt/data/results/'\n",
    "train_tag_stores = []\n",
    "val_tag_stores = []\n",
    "for run_name in run_names:\n",
    "    val_path = join(results_path, run_name, 'validation_preds.csv')\n",
    "    val_tag_stores.append(TagStore(val_path))\n",
    "    \n",
    "    train_path = join(results_path, run_name, 'train_preds.csv')\n",
    "    train_tag_stores.append(TagStore(train_path))\n",
    "\n",
    "train_file_inds = train_tag_stores[0].file_ind_to_tags.keys()\n",
    "val_file_inds = val_tag_stores[0].file_ind_to_tags.keys()\n",
    "\n",
    "gt_csv_path = '/opt/data/datasets/planet_kaggle/train_v2.csv'\n",
    "gt_tag_store = TagStore(gt_csv_path)"
   ]
  },
  {
   "cell_type": "code",
   "execution_count": 100,
   "metadata": {},
   "outputs": [
    {
     "name": "stdout",
     "output_type": "stream",
     "text": [
      "(8096, 17, 10)\n",
      "(32383, 17, 10)\n"
     ]
    }
   ],
   "source": [
    "from sklearn.metrics import fbeta_score\n",
    "\n",
    "val_preds = []\n",
    "train_preds = []\n",
    "for i, run_name in enumerate(run_names):\n",
    "    run_val_preds = np.expand_dims(val_tag_stores[i].get_tag_array(val_file_inds), axis=2)\n",
    "    val_preds.append(run_val_preds)\n",
    "    \n",
    "    run_train_preds = np.expand_dims(train_tag_stores[i].get_tag_array(train_file_inds), axis=2)\n",
    "    train_preds.append(run_train_preds)\n",
    "    \n",
    "val_preds = np.concatenate(val_preds, axis=2)\n",
    "print(val_preds.shape)\n",
    "\n",
    "train_preds = np.concatenate(train_preds, axis=2)\n",
    "print(train_preds.shape)"
   ]
  },
  {
   "cell_type": "code",
   "execution_count": 103,
   "metadata": {},
   "outputs": [
    {
     "name": "stdout",
     "output_type": "stream",
     "text": [
      "sweep: 0, best_f2: 0.94149, best_weights: [ 0.  0.  0.  0.  0.  0.  0.  0.  1.  0.]\n",
      "sweep: 1, best_f2: 0.94165, best_weights: [ 0.  0.  0.  0.  0.  0.  0.  1.  1.  0.]\n",
      "sweep: 2, best_f2: 0.94278, best_weights: [ 0.  0.  0.  0.  0.  0.  0.  1.  1.  1.]\n",
      "sweep: 3, best_f2: 0.94279, best_weights: [ 0.  0.  0.  0.  0.  1.  0.  1.  1.  1.]\n",
      "sweep: 4, best_f2: 0.94286, best_weights: [ 0.  0.  0.  0.  0.  1.  1.  1.  1.  1.]\n",
      "0.931974666254\n",
      "0.932528525481\n"
     ]
    }
   ],
   "source": [
    "def get_f2(w, is_train=True):\n",
    "    if is_train:\n",
    "        train_preds_sum = np.sum(train_preds * [[w]], axis=2)\n",
    "        weight_sum = np.sum(w)\n",
    "        true_thresh = math.ceil(weight_sum / 2)\n",
    "        our_train_preds = train_preds_sum >= true_thresh\n",
    "        gt_train_preds = gt_tag_store.get_tag_array(train_file_inds)\n",
    "        f2 = fbeta_score(\n",
    "            gt_train_preds, our_train_preds, beta=2, average='samples')\n",
    "    else:\n",
    "        val_preds_sum = np.sum(val_preds * [[w]], axis=2)\n",
    "        weight_sum = np.sum(w)\n",
    "        true_thresh = math.ceil(weight_sum / 2)\n",
    "        our_val_preds = val_preds_sum >= true_thresh\n",
    "        gt_val_preds = gt_tag_store.get_tag_array(val_file_inds)\n",
    "        f2 = fbeta_score(\n",
    "            gt_val_preds, our_val_preds, beta=2, average='samples')\n",
    "\n",
    "    \n",
    "    return f2\n",
    "\n",
    "best_weights = np.zeros((len(run_names),))\n",
    "best_f2 = -1\n",
    "sweep_best_weights = best_weights.copy()\n",
    "sweep_best_f2 = best_f2\n",
    "nb_sweeps = 10\n",
    "\n",
    "for sweep_ind in range(nb_sweeps):\n",
    "    for run_ind in range(len(run_names)):\n",
    "        w = best_weights.copy()\n",
    "        w[run_ind] = 0 if w[run_ind] == 1 else 1\n",
    "        f2 = get_f2(w, is_train=True)\n",
    "        # print(w)\n",
    "        # print(f2)\n",
    "        if f2 > sweep_best_f2:\n",
    "            sweep_best_f2 = f2\n",
    "            sweep_best_weights = w\n",
    "\n",
    "    if sweep_best_f2 > best_f2:\n",
    "        best_f2 = sweep_best_f2\n",
    "        best_weights = sweep_best_weights\n",
    "        print('sweep: {}, best_f2: {:0.5f}, best_weights: {}'.format(sweep_ind, best_f2, best_weights))\n"
   ]
  },
  {
   "cell_type": "code",
   "execution_count": 107,
   "metadata": {},
   "outputs": [
    {
     "name": "stdout",
     "output_type": "stream",
     "text": [
      "0.941866842839\n",
      "0.932528525481\n",
      "0.942857098009\n",
      "0.931974666254\n"
     ]
    }
   ],
   "source": [
    "print(get_f2(np.ones((10,)), is_train=True))\n",
    "print(get_f2(np.ones((10,)), is_train=False))\n",
    "\n",
    "print(get_f2(best_weights, is_train=True))\n",
    "print(get_f2(best_weights, is_train=False))"
   ]
  },
  {
   "cell_type": "code",
   "execution_count": null,
   "metadata": {
    "collapsed": true
   },
   "outputs": [],
   "source": []
  }
 ],
 "metadata": {
  "kernelspec": {
   "display_name": "Python 3",
   "language": "python",
   "name": "python3"
  },
  "language_info": {
   "codemirror_mode": {
    "name": "ipython",
    "version": 3
   },
   "file_extension": ".py",
   "mimetype": "text/x-python",
   "name": "python",
   "nbconvert_exporter": "python",
   "pygments_lexer": "ipython3",
   "version": "3.5.1"
  }
 },
 "nbformat": 4,
 "nbformat_minor": 2
}

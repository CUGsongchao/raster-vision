{
 "cells": [
  {
   "cell_type": "code",
   "execution_count": null,
   "metadata": {},
   "outputs": [],
   "source": [
    "from os.path import join\n",
    "\n",
    "import boto3\n",
    "from botocore.exceptions import ClientError\n",
    "\n",
    "from rastervision.common.settings import results_path\n",
    "\n",
    "best_densenet_run_names = {\n",
    "    'tagging/7_5_17/ensemble/0': 1,\n",
    "    'tagging/7_5_17/ensemble/1': 1,\n",
    "    'tagging/7_5_17/ensemble/2': 1,\n",
    "    'tagging/7_5_17/ensemble/3': 1,\n",
    "    'tagging/7_5_17/ensemble/4': 1,\n",
    "    'tagging/7_11_17/dense_ensemble2/0': 1,\n",
    "    'tagging/7_11_17/dense_ensemble2/1': 1,\n",
    "    'tagging/7_11_17/dense_ensemble2/2': 1,\n",
    "    'tagging/7_11_17/dense_ensemble2/3': 1,\n",
    "    'tagging/7_11_17/dense_ensemble2/4': 1,\n",
    "    'tagging/7_7_17/jpg_ensemble_0/0': 1,\n",
    "    'tagging/7_7_17/jpg_ensemble_0/1': 1,\n",
    "    'tagging/7_7_17/jpg_ensemble_0/2': 1,\n",
    "    'tagging/7_7_17/jpg_ensemble_0/3': 1\n",
    "}\n",
    "\n",
    "other_densenet_run_names = {\n",
    "    'tagging/6_30_17/dense121_dropout_1': 1,\n",
    "    'tagging/6_30_17/dense121_dropout_2': 1,\n",
    "    'tagging/6_30_17/dense121_dropout_3': 1,\n",
    "    'tagging/6_29_17/dense121_3x10epochs_0': 1\n",
    "}\n",
    "\n",
    "resnet_run_names = {\n",
    "    'tagging/7_7_17/baseline_cyclic_1': 1,\n",
    "    'tagging/7_7_17/baseline_cyclic_1200steps': 1,\n",
    "    'tagging/7_7_17/baseline_cyclic_2': 1, # bad\n",
    "    'tagging/7_6_17/baseline_cyclic': 1, # v bad\n",
    "    'tagging/6_28_17/baseline_testrot_0': 1,\n",
    "    'tagging/7_10_17/cyclic_2400steps': 1\n",
    "}\n",
    "\n",
    "tiff_run_names = {\n",
    "    'tagging/7_3_17/baseline-branch-tiffdrop': 1,\n",
    "    'tagging/7_3_17/dual_resnet-stage4-moretrain': 1,\n",
    "    'tagging/7_3_17/dual_resnet-stage5-moretrain': 1,\n",
    "    'tagging/7_2_17/dual_resnet_30epoch': 1,\n",
    "    'tagging/7_7_17/tif_ensemble_0/0': 1,\n",
    "    'tagging/7_7_17/tif_ensemble_0/1': 1,\n",
    "    'tagging/7_7_17/tif_ensemble_0/2': 1,\n",
    "    'tagging/7_7_17/tif_ensemble_0/3': 1,\n",
    "    'tagging/7_2_17/IRRGtiff_v5actual_dense121_3x10epochs_0': 1,\n",
    "    'tagging/6_29_17/IRRGBtiff_v5_dense121_3x10epochs_0': 1\n",
    "}\n",
    "\n",
    "all_run_names = {**best_densenet_run_names, **other_densenet_run_names, **resnet_run_names, **tiff_run_names}\n",
    "\n",
    "test_pred_fn = 'test_preds.csv'\n",
    "scores_fn = 'scores.json'\n",
    "s3_bucket = 'raster-vision'\n",
    "\n",
    "\n",
    "def s3_download(run_name, file_name, new_file_name=None):\n",
    "    if new_file_name is None:\n",
    "        new_file_name = file_name\n",
    "    s3_key = 'results/{}/{}'.format(run_name, file_name)\n",
    "    run_path = join('/opt/data/results/', run_name, new_file_name)\n",
    "    s3 = boto3.resource('s3')\n",
    "    s3.Bucket(s3_bucket).download_file(s3_key, run_path)\n",
    "\n",
    "\n",
    "for run_name in all_run_names:\n",
    "    try:\n",
    "        s3_download(run_name, test_pred_fn)\n",
    "    except:\n",
    "        s3_download(run_name, 'test_predictions.csv', 'test_preds.csv')\n",
    "        \n",
    "        \n",
    "    s3_download(run_name, scores_fn)"
   ]
  },
  {
   "cell_type": "code",
   "execution_count": 16,
   "metadata": {},
   "outputs": [
    {
     "name": "stdout",
     "output_type": "stream",
     "text": [
      "[('tagging/6_30_17/dense121_dropout_3', 0.89206), ('tagging/7_6_17/baseline_cyclic', 0.90561), ('tagging/6_30_17/dense121_dropout_2', 0.91174), ('tagging/7_7_17/tif_ensemble_0/1', 0.91378), ('tagging/7_7_17/tif_ensemble_0/0', 0.9153), ('tagging/7_7_17/tif_ensemble_0/2', 0.91531), ('tagging/7_7_17/tif_ensemble_0/3', 0.9159), ('tagging/7_10_17/cyclic_2400steps', 0.92227), ('tagging/7_7_17/baseline_cyclic_2', 0.92239), ('tagging/7_2_17/dual_resnet_30epoch', 0.92289), ('tagging/6_30_17/dense121_dropout_1', 0.92355), ('tagging/7_3_17/baseline-branch-tiffdrop', 0.92515), ('tagging/6_28_17/baseline_testrot_0', 0.9253781318970175), ('tagging/7_3_17/dual_resnet-stage4-moretrain', 0.92547), ('tagging/7_7_17/baseline_cyclic_1200steps', 0.92613), ('tagging/7_3_17/dual_resnet-stage5-moretrain', 0.92624), ('tagging/7_2_17/IRRGtiff_v5actual_dense121_3x10epochs_0', 0.92637), ('tagging/6_29_17/dense121_3x10epochs_0', 0.9278674897960667), ('tagging/7_7_17/baseline_cyclic_1', 0.92799), ('tagging/7_7_17/jpg_ensemble_0/3', 0.9282), ('tagging/7_7_17/jpg_ensemble_0/0', 0.9285), ('tagging/7_11_17/dense_ensemble2/0', 0.92871), ('tagging/7_7_17/jpg_ensemble_0/1', 0.929), ('tagging/7_5_17/ensemble/0', 0.9295), ('tagging/7_11_17/dense_ensemble2/4', 0.92978), ('tagging/7_5_17/ensemble/1', 0.92978), ('tagging/7_5_17/ensemble/4', 0.92986), ('tagging/7_7_17/jpg_ensemble_0/2', 0.9302), ('tagging/7_5_17/ensemble/2', 0.93026), ('tagging/7_5_17/ensemble/3', 0.93029), ('tagging/7_11_17/dense_ensemble2/2', 0.93043), ('tagging/6_29_17/IRRGBtiff_v5_dense121_3x10epochs_0', 0.9308), ('tagging/7_11_17/dense_ensemble2/1', 0.93108), ('tagging/7_11_17/dense_ensemble2/3', 0.93124)]\n",
      "34\n"
     ]
    }
   ],
   "source": [
    "import json\n",
    "\n",
    "run_f2_list = []\n",
    "for run_name in all_run_names:\n",
    "    run_path = join(results_path, run_name)\n",
    "    scores_path = join(run_path, 'scores.json')\n",
    "    with open(scores_path, 'r') as scores_file:\n",
    "        scores = json.load(scores_file)\n",
    "        if 'f2' in scores:\n",
    "            f2 = scores['f2']\n",
    "        elif 'f2_samples' in scores:\n",
    "            f2 = scores['f2_samples']\n",
    "    run_f2_list.append((run_name, f2))\n",
    "\n",
    "run_f2_list = sorted(run_f2_list, key=lambda x: x[1])\n",
    "print(run_f2_list)\n",
    "print(len(run_f2_list))\n"
   ]
  },
  {
   "cell_type": "code",
   "execution_count": 22,
   "metadata": {},
   "outputs": [
    {
     "name": "stdout",
     "output_type": "stream",
     "text": [
      "[('tagging/7_10_17/cyclic_2400steps', 0.92227), ('tagging/7_7_17/baseline_cyclic_2', 0.92239), ('tagging/7_2_17/dual_resnet_30epoch', 0.92289), ('tagging/6_30_17/dense121_dropout_1', 0.92355), ('tagging/7_3_17/baseline-branch-tiffdrop', 0.92515), ('tagging/6_28_17/baseline_testrot_0', 0.9253781318970175), ('tagging/7_3_17/dual_resnet-stage4-moretrain', 0.92547), ('tagging/7_7_17/baseline_cyclic_1200steps', 0.92613), ('tagging/7_3_17/dual_resnet-stage5-moretrain', 0.92624), ('tagging/7_2_17/IRRGtiff_v5actual_dense121_3x10epochs_0', 0.92637), ('tagging/6_29_17/dense121_3x10epochs_0', 0.9278674897960667), ('tagging/7_7_17/baseline_cyclic_1', 0.92799), ('tagging/7_7_17/jpg_ensemble_0/3', 0.9282), ('tagging/7_7_17/jpg_ensemble_0/0', 0.9285), ('tagging/7_11_17/dense_ensemble2/0', 0.92871), ('tagging/7_7_17/jpg_ensemble_0/1', 0.929), ('tagging/7_5_17/ensemble/0', 0.9295), ('tagging/7_11_17/dense_ensemble2/4', 0.92978), ('tagging/7_5_17/ensemble/1', 0.92978), ('tagging/7_5_17/ensemble/4', 0.92986), ('tagging/7_7_17/jpg_ensemble_0/2', 0.9302), ('tagging/7_5_17/ensemble/2', 0.93026), ('tagging/7_5_17/ensemble/3', 0.93029), ('tagging/7_11_17/dense_ensemble2/2', 0.93043), ('tagging/6_29_17/IRRGBtiff_v5_dense121_3x10epochs_0', 0.9308), ('tagging/7_11_17/dense_ensemble2/1', 0.93108), ('tagging/7_11_17/dense_ensemble2/3', 0.93124)]\n",
      "27\n",
      "['tagging/7_10_17/cyclic_2400steps', 'tagging/7_7_17/baseline_cyclic_2', 'tagging/7_2_17/dual_resnet_30epoch', 'tagging/6_30_17/dense121_dropout_1', 'tagging/7_3_17/baseline-branch-tiffdrop', 'tagging/6_28_17/baseline_testrot_0', 'tagging/7_3_17/dual_resnet-stage4-moretrain', 'tagging/7_7_17/baseline_cyclic_1200steps', 'tagging/7_3_17/dual_resnet-stage5-moretrain', 'tagging/7_2_17/IRRGtiff_v5actual_dense121_3x10epochs_0', 'tagging/6_29_17/dense121_3x10epochs_0', 'tagging/7_7_17/baseline_cyclic_1', 'tagging/7_7_17/jpg_ensemble_0/3', 'tagging/7_7_17/jpg_ensemble_0/0', 'tagging/7_11_17/dense_ensemble2/0', 'tagging/7_7_17/jpg_ensemble_0/1', 'tagging/7_5_17/ensemble/0', 'tagging/7_11_17/dense_ensemble2/4', 'tagging/7_5_17/ensemble/1', 'tagging/7_5_17/ensemble/4', 'tagging/7_7_17/jpg_ensemble_0/2', 'tagging/7_5_17/ensemble/2', 'tagging/7_5_17/ensemble/3', 'tagging/7_11_17/dense_ensemble2/2', 'tagging/6_29_17/IRRGBtiff_v5_dense121_3x10epochs_0', 'tagging/7_11_17/dense_ensemble2/1', 'tagging/7_11_17/dense_ensemble2/3']\n"
     ]
    }
   ],
   "source": [
    "decent_f2_list = list(filter(lambda x: x[1] > 0.92, run_f2_list))\n",
    "print(decent_f2_list)\n",
    "print(len(decent_f2_list))\n",
    "decent_run_names = list(map(lambda x: x[0], decent_f2_list))\n",
    "print(decent_run_names)"
   ]
  },
  {
   "cell_type": "code",
   "execution_count": 24,
   "metadata": {},
   "outputs": [
    {
     "ename": "FileNotFoundError",
     "evalue": "[Errno 2] No such file or directory: '/opt/data/results/tagging/6_29_17/dense121_3x10epochs_0/test_preds.csv'",
     "output_type": "error",
     "traceback": [
      "\u001b[0;31m---------------------------------------------------------------------------\u001b[0m",
      "\u001b[0;31mFileNotFoundError\u001b[0m                         Traceback (most recent call last)",
      "\u001b[0;32m<ipython-input-24-09e16e292ddd>\u001b[0m in \u001b[0;36m<module>\u001b[0;34m()\u001b[0m\n\u001b[1;32m     14\u001b[0m     \u001b[0mrun_path\u001b[0m \u001b[0;34m=\u001b[0m \u001b[0mjoin\u001b[0m\u001b[0;34m(\u001b[0m\u001b[0mresults_path\u001b[0m\u001b[0;34m,\u001b[0m \u001b[0mrun_name\u001b[0m\u001b[0;34m)\u001b[0m\u001b[0;34m\u001b[0m\u001b[0m\n\u001b[1;32m     15\u001b[0m     \u001b[0mtest_pred_path\u001b[0m \u001b[0;34m=\u001b[0m \u001b[0mjoin\u001b[0m\u001b[0;34m(\u001b[0m\u001b[0mrun_path\u001b[0m\u001b[0;34m,\u001b[0m \u001b[0mtest_pred_fn\u001b[0m\u001b[0;34m)\u001b[0m\u001b[0;34m\u001b[0m\u001b[0m\n\u001b[0;32m---> 16\u001b[0;31m     \u001b[0mtest_preds\u001b[0m \u001b[0;34m=\u001b[0m \u001b[0mTagStore\u001b[0m\u001b[0;34m(\u001b[0m\u001b[0mtest_pred_path\u001b[0m\u001b[0;34m)\u001b[0m\u001b[0;34m.\u001b[0m\u001b[0mget_tag_array\u001b[0m\u001b[0;34m(\u001b[0m\u001b[0mtest_file_inds\u001b[0m\u001b[0;34m)\u001b[0m\u001b[0;34m\u001b[0m\u001b[0m\n\u001b[0m\u001b[1;32m     17\u001b[0m     \u001b[0mtest_preds_list\u001b[0m\u001b[0;34m.\u001b[0m\u001b[0mappend\u001b[0m\u001b[0;34m(\u001b[0m\u001b[0mnp\u001b[0m\u001b[0;34m.\u001b[0m\u001b[0mexpand_dims\u001b[0m\u001b[0;34m(\u001b[0m\u001b[0mtest_preds\u001b[0m\u001b[0;34m,\u001b[0m \u001b[0maxis\u001b[0m\u001b[0;34m=\u001b[0m\u001b[0;36m2\u001b[0m\u001b[0;34m)\u001b[0m\u001b[0;34m)\u001b[0m\u001b[0;34m\u001b[0m\u001b[0m\n\u001b[1;32m     18\u001b[0m \u001b[0;34m\u001b[0m\u001b[0m\n",
      "\u001b[0;32m/opt/src/rastervision/tagging/data/planet_kaggle.py\u001b[0m in \u001b[0;36m__init__\u001b[0;34m(self, tags_path, active_tags)\u001b[0m\n\u001b[1;32m    105\u001b[0m \u001b[0;34m\u001b[0m\u001b[0m\n\u001b[1;32m    106\u001b[0m         \u001b[0;32mif\u001b[0m \u001b[0mtags_path\u001b[0m \u001b[0;32mis\u001b[0m \u001b[0;32mnot\u001b[0m \u001b[0;32mNone\u001b[0m\u001b[0;34m:\u001b[0m\u001b[0;34m\u001b[0m\u001b[0m\n\u001b[0;32m--> 107\u001b[0;31m             \u001b[0mself\u001b[0m\u001b[0;34m.\u001b[0m\u001b[0mload_tags\u001b[0m\u001b[0;34m(\u001b[0m\u001b[0mtags_path\u001b[0m\u001b[0;34m)\u001b[0m\u001b[0;34m\u001b[0m\u001b[0m\n\u001b[0m\u001b[1;32m    108\u001b[0m \u001b[0;34m\u001b[0m\u001b[0m\n\u001b[1;32m    109\u001b[0m     \u001b[0;32mdef\u001b[0m \u001b[0mget_tag_ind\u001b[0m\u001b[0;34m(\u001b[0m\u001b[0mself\u001b[0m\u001b[0;34m,\u001b[0m \u001b[0mtag\u001b[0m\u001b[0;34m)\u001b[0m\u001b[0;34m:\u001b[0m\u001b[0;34m\u001b[0m\u001b[0m\n",
      "\u001b[0;32m/opt/src/rastervision/tagging/data/planet_kaggle.py\u001b[0m in \u001b[0;36mload_tags\u001b[0;34m(self, tags_path)\u001b[0m\n\u001b[1;32m    117\u001b[0m \u001b[0;34m\u001b[0m\u001b[0m\n\u001b[1;32m    118\u001b[0m     \u001b[0;32mdef\u001b[0m \u001b[0mload_tags\u001b[0m\u001b[0;34m(\u001b[0m\u001b[0mself\u001b[0m\u001b[0;34m,\u001b[0m \u001b[0mtags_path\u001b[0m\u001b[0;34m)\u001b[0m\u001b[0;34m:\u001b[0m\u001b[0;34m\u001b[0m\u001b[0m\n\u001b[0;32m--> 119\u001b[0;31m         \u001b[0;32mwith\u001b[0m \u001b[0mopen\u001b[0m\u001b[0;34m(\u001b[0m\u001b[0mtags_path\u001b[0m\u001b[0;34m,\u001b[0m \u001b[0mnewline\u001b[0m\u001b[0;34m=\u001b[0m\u001b[0;34m''\u001b[0m\u001b[0;34m)\u001b[0m \u001b[0;32mas\u001b[0m \u001b[0mtags_file\u001b[0m\u001b[0;34m:\u001b[0m\u001b[0;34m\u001b[0m\u001b[0m\n\u001b[0m\u001b[1;32m    120\u001b[0m             \u001b[0mreader\u001b[0m \u001b[0;34m=\u001b[0m \u001b[0mcsv\u001b[0m\u001b[0;34m.\u001b[0m\u001b[0mreader\u001b[0m\u001b[0;34m(\u001b[0m\u001b[0mtags_file\u001b[0m\u001b[0;34m)\u001b[0m\u001b[0;34m\u001b[0m\u001b[0m\n\u001b[1;32m    121\u001b[0m             \u001b[0;31m# Skip header\u001b[0m\u001b[0;34m\u001b[0m\u001b[0;34m\u001b[0m\u001b[0m\n",
      "\u001b[0;31mFileNotFoundError\u001b[0m: [Errno 2] No such file or directory: '/opt/data/results/tagging/6_29_17/dense121_3x10epochs_0/test_preds.csv'"
     ]
    }
   ],
   "source": [
    "import numpy as np\n",
    "import math\n",
    "\n",
    "from rastervision.tagging.data.planet_kaggle import TagStore\n",
    "\n",
    "run_names = decent_run_names\n",
    "run_name = run_names[0]\n",
    "run_path = join(results_path, run_name)\n",
    "test_pred_path = join(run_path, test_pred_fn)\n",
    "test_file_inds = list(TagStore(test_pred_path).file_ind_to_tags.keys())\n",
    "\n",
    "test_preds_list = []\n",
    "for run_name in run_names:\n",
    "    run_path = join(results_path, run_name)\n",
    "    test_pred_path = join(run_path, test_pred_fn) \n",
    "    test_preds = TagStore(test_pred_path).get_tag_array(test_file_inds)\n",
    "    test_preds_list.append(np.expand_dims(test_preds, axis=2))\n",
    "\n",
    "test_preds = np.concatenate(test_preds_list, axis=2)\n",
    "test_preds_sum = np.sum(test_preds, axis=2)\n",
    "weight_sum = test_preds.shape[2]\n",
    "true_thresh = math.ceil(weight_sum / 2)\n",
    "test_preds = test_preds_sum >= true_thresh    "
   ]
  },
  {
   "cell_type": "code",
   "execution_count": 11,
   "metadata": {
    "collapsed": true
   },
   "outputs": [],
   "source": [
    "out_path = '/opt/data/jupyter/out/test_preds.csv'\n",
    "tag_store = TagStore()\n",
    "for i in range(test_preds.shape[0]):\n",
    "    tag_store.add_tags(test_file_inds[i], test_preds[i, :])\n",
    "\n",
    "tag_store.save(out_path)"
   ]
  },
  {
   "cell_type": "code",
   "execution_count": null,
   "metadata": {
    "collapsed": true
   },
   "outputs": [],
   "source": []
  }
 ],
 "metadata": {
  "kernelspec": {
   "display_name": "Python 3",
   "language": "python",
   "name": "python3"
  },
  "language_info": {
   "codemirror_mode": {
    "name": "ipython",
    "version": 3
   },
   "file_extension": ".py",
   "mimetype": "text/x-python",
   "name": "python",
   "nbconvert_exporter": "python",
   "pygments_lexer": "ipython3",
   "version": "3.5.1"
  }
 },
 "nbformat": 4,
 "nbformat_minor": 2
}
